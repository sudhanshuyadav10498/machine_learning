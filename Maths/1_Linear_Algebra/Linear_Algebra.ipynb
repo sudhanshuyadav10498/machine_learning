{
 "cells": [
  {
   "cell_type": "markdown",
   "id": "637431cf",
   "metadata": {},
   "source": [
    "##  Matrix Decomposition\n",
    "### LU Decomposition\n",
    "    A = L · U\n",
    "    A is the square matrix that we wish to decompose\n",
    "    L is the lower triangle matrix\n",
    "    U is the upper triangle matrix\n",
    "\n",
    "    The LU decomposition is found using an iterative numerical process and can fail for those matrices that cannot be decomposed or decomposed easily. A variation of this decomposition that is numerically more stable to solve in practice is called the LUP decomposition, or the LU decomposition with partial pivoting.\n",
    "\n",
    "    A = P · L · U "
   ]
  },
  {
   "cell_type": "code",
   "execution_count": 17,
   "id": "f7b98e99",
   "metadata": {},
   "outputs": [
    {
     "name": "stdout",
     "output_type": "stream",
     "text": [
      "A = \n",
      " [[1 2 3]\n",
      " [4 5 6]\n",
      " [7 8 9]]\n",
      "P = \n",
      " [[0. 1. 0.]\n",
      " [0. 0. 1.]\n",
      " [1. 0. 0.]]\n",
      "L = \n",
      " [[1.         0.         0.        ]\n",
      " [0.14285714 1.         0.        ]\n",
      " [0.57142857 0.5        1.        ]]\n",
      "U = \n",
      " [[ 7.00000000e+00  8.00000000e+00  9.00000000e+00]\n",
      " [ 0.00000000e+00  8.57142857e-01  1.71428571e+00]\n",
      " [ 0.00000000e+00  0.00000000e+00 -1.58603289e-16]]\n",
      "reconstructed_A = \n",
      " [[1. 2. 3.]\n",
      " [4. 5. 6.]\n",
      " [7. 8. 9.]]\n"
     ]
    }
   ],
   "source": [
    "import numpy as np \n",
    "from math import inf\n",
    "import scipy as sp\n",
    "from sklearn.decomposition import TruncatedSVD\n",
    "from scipy.linalg import lu\n",
    "\n",
    "A = np.array([\n",
    "[1, 2, 3],\n",
    "[4, 5, 6],\n",
    "[7, 8, 9]])\n",
    "\n",
    "P, L, U = lu(A)\n",
    "\n",
    "print('A = \\n',A)\n",
    "print('P = \\n',P)\n",
    "print('L = \\n',L)\n",
    "print('U = \\n',U)\n",
    "\n",
    "reconstructed_A = P @ L @ U \n",
    "print('reconstructed_A = \\n',reconstructed_A)"
   ]
  },
  {
   "cell_type": "markdown",
   "id": "4964ddaa",
   "metadata": {},
   "source": [
    "### QR Decomposition\n",
    "    The QR decomposition is for n × m matrices (not limited to square matrices) and decomposes a matrix into Q and R components.\n",
    "    A = Q · R\n",
    "    A is the matrix that we wish to decompose\n",
    "    Q a matrix\n",
    "    R is an upper triangle matrix with the size m × n"
   ]
  },
  {
   "cell_type": "code",
   "execution_count": 18,
   "id": "80d62947",
   "metadata": {},
   "outputs": [
    {
     "name": "stdout",
     "output_type": "stream",
     "text": [
      "A = \n",
      " [[1 2]\n",
      " [3 4]\n",
      " [5 6]]\n",
      "Q = \n",
      " [[-0.16903085  0.89708523]\n",
      " [-0.50709255  0.27602622]\n",
      " [-0.84515425 -0.34503278]]\n",
      "R = \n",
      " [[-5.91607978 -7.43735744]\n",
      " [ 0.          0.82807867]]\n",
      "reconstructed_A = \n",
      " [[1. 2.]\n",
      " [3. 4.]\n",
      " [5. 6.]]\n"
     ]
    }
   ],
   "source": [
    "A = np.array([\n",
    "[1, 2],\n",
    "[3, 4],\n",
    "[5, 6]])\n",
    "\n",
    "print('A = \\n',A)\n",
    "\n",
    "Q,R =  np.linalg.qr(A)\n",
    "\n",
    "print('Q = \\n',Q)\n",
    "print('R = \\n',R)\n",
    "\n",
    "reconstructed_A = Q @ R\n",
    "print('reconstructed_A = \\n',reconstructed_A)"
   ]
  },
  {
   "cell_type": "markdown",
   "id": "cb92f564",
   "metadata": {},
   "source": [
    "### Cholesky Decomposition\n",
    "    The Cholesky decomposition is for square symmetric matrices where all values are greater than zero, so-called positive definite matrices.\n",
    "    A = L · LT\n",
    "    A = UT· U"
   ]
  },
  {
   "cell_type": "code",
   "execution_count": 19,
   "id": "ea0f58a7",
   "metadata": {},
   "outputs": [
    {
     "name": "stdout",
     "output_type": "stream",
     "text": [
      "A = \n",
      " [[2 1 1]\n",
      " [1 2 1]\n",
      " [1 1 2]]\n",
      "L = \n",
      " [[1.41421356 0.         0.        ]\n",
      " [0.70710678 1.22474487 0.        ]\n",
      " [0.70710678 0.40824829 1.15470054]]\n",
      "reconstructed_A = \n",
      " [[2. 1. 1.]\n",
      " [1. 2. 1.]\n",
      " [1. 1. 2.]]\n"
     ]
    }
   ],
   "source": [
    "A = np.array([\n",
    "[2, 1, 1],\n",
    "[1, 2, 1],\n",
    "[1, 1, 2]])\n",
    "print('A = \\n',A)\n",
    "\n",
    "L=np.linalg.cholesky(A)\n",
    "print('L = \\n',L)\n",
    "\n",
    "reconstructed_A = L @ L.T\n",
    "print('reconstructed_A = \\n',reconstructed_A)"
   ]
  },
  {
   "cell_type": "markdown",
   "id": "59c03fa8",
   "metadata": {},
   "source": [
    "## Eigendecomposition\n",
    "    A vector is an eigenvector of a matrix if it satisfies the following equation\n",
    "    A · v = λ · v\n",
    "    \n",
    "    Not all square matrices can be decomposed into eigenvectors and eigenvalues, and some can only be decomposed in a way that requires complex numbers.\n",
    "    The parent matrix can be shown to be a product of the eigenvectors and eigenvalues\n",
    "    A = Q · Λ · Q-1\n",
    "    Q  : matrix comprised of the eigenvectors\n",
    "    Λ  : diagonal matrix comprised of the eigenvalues\n",
    "    QT : transpose of the matrix comprised of the eigenvectors"
   ]
  },
  {
   "cell_type": "code",
   "execution_count": 20,
   "id": "c883c0fb",
   "metadata": {},
   "outputs": [
    {
     "name": "stdout",
     "output_type": "stream",
     "text": [
      "A = \n",
      " [[1 2 3]\n",
      " [4 5 6]\n",
      " [7 8 9]]\n",
      "eigen_values = \n",
      " [ 1.61168440e+01 -1.11684397e+00 -3.38433605e-16]\n",
      "eigen_vectors = \n",
      " [[-0.23197069 -0.78583024  0.40824829]\n",
      " [-0.52532209 -0.08675134 -0.81649658]\n",
      " [-0.8186735   0.61232756  0.40824829]]\n",
      "reconstructed_A = \n",
      " [[1. 2. 3.]\n",
      " [4. 5. 6.]\n",
      " [7. 8. 9.]]\n"
     ]
    }
   ],
   "source": [
    "A = np.array([\n",
    "[1, 2, 3],\n",
    "[4, 5, 6],\n",
    "[7, 8, 9]])\n",
    "print('A = \\n',A)\n",
    "\n",
    "eigen_values, eigen_vectors = np.linalg.eig(A)\n",
    "\n",
    "print('eigen_values = \\n',eigen_values)\n",
    "print('eigen_vectors = \\n',eigen_vectors)\n",
    "\n",
    "Q = eigen_vectors\n",
    "Λ = np.diag(eigen_values)\n",
    "Qinv = np.linalg.inv(Q)\n",
    "\n",
    "reconstructed_A = Q @ Λ @ Qinv\n",
    "print('reconstructed_A = \\n',reconstructed_A)"
   ]
  },
  {
   "cell_type": "markdown",
   "id": "e026f449",
   "metadata": {},
   "source": [
    "### SVD : Singular-Value Decomposition\n",
    "    A = U · Σ · VT\n",
    "    \n",
    "https://www.youtube.com/playlist?list=PLMrJAkhIeNNSVjnsviglFoY2nXildDCcv\n",
    "\n",
    "https://www.youtube.com/c/Eigensteve/playlists\n",
    "\n",
    "    "
   ]
  },
  {
   "cell_type": "code",
   "execution_count": 21,
   "id": "2b90f270",
   "metadata": {},
   "outputs": [
    {
     "name": "stdout",
     "output_type": "stream",
     "text": [
      "A = \n",
      " [[1 2 3]\n",
      " [4 5 6]\n",
      " [7 8 9]]\n",
      "U = \n",
      " [[-0.21483724  0.88723069  0.40824829]\n",
      " [-0.52058739  0.24964395 -0.81649658]\n",
      " [-0.82633754 -0.38794278  0.40824829]]\n",
      "s = \n",
      " [1.68481034e+01 1.06836951e+00 3.33475287e-16]\n",
      "V = \n",
      " [[-0.47967118 -0.57236779 -0.66506441]\n",
      " [-0.77669099 -0.07568647  0.62531805]\n",
      " [-0.40824829  0.81649658 -0.40824829]]\n",
      "S = \n",
      " [[1.68481034e+01 0.00000000e+00 0.00000000e+00]\n",
      " [0.00000000e+00 1.06836951e+00 0.00000000e+00]\n",
      " [0.00000000e+00 0.00000000e+00 3.33475287e-16]]\n",
      "reconstructed_A = \n",
      " [[1. 2. 3.]\n",
      " [4. 5. 6.]\n",
      " [7. 8. 9.]]\n"
     ]
    }
   ],
   "source": [
    "A = np.array([\n",
    "[1, 2, 3],\n",
    "[4, 5, 6],\n",
    "[7, 8, 9]])\n",
    "print('A = \\n',A)\n",
    "\n",
    "U,s,V = np.linalg.svd(A)\n",
    "\n",
    "print('U = \\n',U)\n",
    "print('s = \\n',s)\n",
    "print('V = \\n',V)\n",
    "\n",
    "S = np.diag(s)\n",
    "print('S = \\n',S)\n",
    "\n",
    "reconstructed_A = U @ S @ V\n",
    "print('reconstructed_A = \\n',reconstructed_A)"
   ]
  },
  {
   "cell_type": "markdown",
   "id": "73faf5e4",
   "metadata": {},
   "source": [
    "## Dimensionality Reduction\n",
    "    A popular application of SVD is for dimensionality reduction.\n",
    "    Data with a large number of features, such as more features (columns) than observations (rows) may be reduced to a smaller subset of features that are most relevant to the prediction problem.\n",
    "    \n",
    "    To do this we can perform an SVD operation on the original data and select the top k largest singular values in Σ. \n",
    "    These columns can be selected from Σ and the rows selected from VT. \n",
    "    An approximate B of the original vector A can then be reconstructed.\n",
    "    A = U · Σ · VT\n",
    "    B = U · Σk · Vk.T\n",
    "    \n",
    "    Transformed martix with less features can be calculated as below.\n",
    "    T = U · Σk \n",
    "    T = A · VkT"
   ]
  },
  {
   "cell_type": "code",
   "execution_count": 22,
   "id": "4fbaaaf1",
   "metadata": {},
   "outputs": [
    {
     "name": "stdout",
     "output_type": "stream",
     "text": [
      "A = \n",
      " [[ 1  2  3  4  5  6  7  8  9 10]\n",
      " [11 12 13 14 15 16 17 18 19 20]\n",
      " [21 22 23 24 25 26 27 28 29 30]]\n",
      "Shapes:  (3, 3) (3,) (10, 10)\n",
      "U = \n",
      " [[-0.19101157 -0.89266338  0.40824829]\n",
      " [-0.51371859 -0.26348917 -0.81649658]\n",
      " [-0.8364256   0.36568503  0.40824829]]\n",
      "s = \n",
      " [9.69657342e+01 7.25578339e+00 1.48879510e-15]\n",
      "VT = \n",
      " [[-0.24139304 -0.25728686 -0.27318068 -0.2890745  -0.30496832 -0.32086214\n",
      "  -0.33675595 -0.35264977 -0.36854359 -0.38443741]\n",
      " [ 0.53589546  0.42695236  0.31800926  0.20906617  0.10012307 -0.00882003\n",
      "  -0.11776313 -0.22670623 -0.33564933 -0.44459242]\n",
      " [ 0.09975293 -0.01037753  0.23987452  0.05273845  0.0996209  -0.46517509\n",
      "  -0.52300449 -0.23591804  0.593137    0.14935136]\n",
      " [-0.259848   -0.19489762 -0.10988774  0.9273013  -0.07153728 -0.05251768\n",
      "  -0.04829915 -0.05415057 -0.07582496 -0.0603383 ]\n",
      " [-0.26312174 -0.0585767  -0.12150761 -0.05740164  0.9302533  -0.0441965\n",
      "  -0.05005435 -0.07728074 -0.13808364 -0.12003039]\n",
      " [-0.34412869 -0.09157816  0.43274424 -0.05958094 -0.05492318  0.70339002\n",
      "  -0.33412339 -0.23272698  0.08693936 -0.10601229]\n",
      " [-0.3607094   0.01575684  0.51799467 -0.04727562 -0.05090152 -0.33292338\n",
      "   0.61579275 -0.27850803  0.07385978 -0.15308609]\n",
      " [-0.33345757  0.21857007  0.28415895 -0.02511566 -0.05422893 -0.22221261\n",
      "  -0.27509879  0.75032187 -0.10121342 -0.24172391]\n",
      " [-0.23733137  0.57140887 -0.45105898  0.01252895 -0.06910398  0.11951822\n",
      "   0.08414965 -0.10361154  0.46917172 -0.39567153]\n",
      " [-0.30296011  0.57190501 -0.00875539  0.01380706 -0.05685882 -0.08131326\n",
      "  -0.14406831 -0.23288126 -0.36263916  0.60376424]]\n",
      "Sk = \n",
      " [[96.96573419  0.        ]\n",
      " [ 0.          7.25578339]\n",
      " [ 0.          0.        ]]\n",
      "Sk - Shapes:  (3, 10)\n",
      "T = \n",
      " [[-18.52157747  -6.47697214]\n",
      " [-49.81310011  -1.91182038]\n",
      " [-81.10462276   2.65333138]]\n",
      "T2 = \n",
      " [[-18.52157747  -6.47697214]\n",
      " [-49.81310011  -1.91182038]\n",
      " [-81.10462276   2.65333138]]\n",
      "B = \n",
      " [[ 1.  2.  3.  4.  5.  6.  7.  8.  9. 10.]\n",
      " [11. 12. 13. 14. 15. 16. 17. 18. 19. 20.]\n",
      " [21. 22. 23. 24. 25. 26. 27. 28. 29. 30.]]\n"
     ]
    }
   ],
   "source": [
    "A = np.array([\n",
    "[1,2,3,4,5,6,7,8,9,10],\n",
    "[11,12,13,14,15,16,17,18,19,20],\n",
    "[21,22,23,24,25,26,27,28,29,30]])\n",
    "print('A = \\n',A)\n",
    "\n",
    "U, s, VT = sp.linalg.svd(A)          # U, s, VT = sp.linalg.svd(A, full_matrices=False) - for exonomy decomposition \n",
    "print('Shapes: ',U.shape, s.shape, VT.shape)\n",
    "print('U = \\n',U)\n",
    "print('s = \\n',s)\n",
    "print('VT = \\n',VT)\n",
    "\n",
    "n_features = 2\n",
    "\n",
    "S = np.zeros(A.shape)\n",
    "S[:A.shape[0], :A.shape[0]] = np.diag(s)\n",
    "Sk=S[:,:n_features]\n",
    "print('Sk = \\n',Sk)\n",
    "print('Sk - Shapes: ',S.shape)\n",
    "\n",
    "Vk = VT[:n_features, :]\n",
    "\n",
    "\n",
    "# Formula 1 : T = U · Σk \n",
    "T = U @ Sk\n",
    "print('T = \\n',T)\n",
    "\n",
    "# Formula 2 : T = A · VkT\n",
    "T2 = A @ Vk.T\n",
    "print('T2 = \\n',T2)\n",
    "\n",
    "# Reconstructed matrix : B = U · Σk · Vk.T\n",
    "B = U @ Sk @ Vk\n",
    "print('B = \\n',B)"
   ]
  },
  {
   "cell_type": "code",
   "execution_count": 23,
   "id": "68fdd5ca",
   "metadata": {},
   "outputs": [
    {
     "name": "stdout",
     "output_type": "stream",
     "text": [
      "A = \n",
      " [[ 1  2  3  4  5  6  7  8  9 10]\n",
      " [11 12 13 14 15 16 17 18 19 20]\n",
      " [21 22 23 24 25 26 27 28 29 30]]\n",
      "T = \n",
      " [[18.52157747  6.47697214]\n",
      " [49.81310011  1.91182038]\n",
      " [81.10462276 -2.65333138]]\n"
     ]
    }
   ],
   "source": [
    "A = np.array([\n",
    "[1,2,3,4,5,6,7,8,9,10],\n",
    "[11,12,13,14,15,16,17,18,19,20],\n",
    "[21,22,23,24,25,26,27,28,29,30]])\n",
    "print('A = \\n',A)\n",
    "\n",
    "svd = TruncatedSVD(n_components=2)\n",
    "svd.fit(A)\n",
    "\n",
    "T = svd.transform(A)\n",
    "print('T = \\n',T)"
   ]
  },
  {
   "attachments": {
    "image.png": {
     "image/png": "[encoded data removed]"
    }
   },
   "cell_type": "markdown",
   "id": "e7a18114",
   "metadata": {},
   "source": [
    "## Covariance and Correlation\n",
    "    It describes how the two variables change together.\n",
    "    The sign of the covariance can be interpreted as whether the two variables increase together (positive) or decrease together (negative).\n",
    "    The magnitude of the covariance is not easily interpreted. A covariance value of zero indicates that both variables are completely independent.\n",
    "    \n",
    " **cov(X, Y) = E[(X − E[X]) × (Y − E[Y])]**\n",
    " \n",
    "    The covariance can be normalized to a score between -1 and 1 to make the magnitude interpretable by dividing it by the standard deviation of X and Y.\n",
    "![image.png](attachment:image.png)    \n",
    "\n",
    "    r is the correlation coefficient of X and Y\n",
    "    cov(X, Y) is the sample covariance\n",
    "    sX and sY are the standard deviations of X and Y respectively"
   ]
  },
  {
   "cell_type": "code",
   "execution_count": 24,
   "id": "f34f1bec",
   "metadata": {},
   "outputs": [
    {
     "name": "stdout",
     "output_type": "stream",
     "text": [
      "[[ 7.5 -7.5]\n",
      " [-7.5  7.5]]\n",
      "-7.5\n",
      "[[ 1. -1.]\n",
      " [-1.  1.]]\n",
      "-1.0\n"
     ]
    }
   ],
   "source": [
    "x = np.array([1,2,3,4,5,6,7,8,9])\n",
    "y = np.array([9,8,7,6,5,4,3,2,1])\n",
    "c_x_y = np.cov(x,y)\n",
    "print(c_x_y)\n",
    "print(c_x_y[0,1])\n",
    "\n",
    "c_coff_x_y = np.corrcoef(x,y)\n",
    "print(c_coff_x_y)\n",
    "print(c_coff_x_y[0,1])"
   ]
  },
  {
   "cell_type": "markdown",
   "id": "832dab70",
   "metadata": {},
   "source": [
    "## Principal Component Analysis\n",
    "Principal Component Analysis, or PCA for short, is a method for reducing the dimensionality of data.\n",
    "\n",
    "It can be thought of as a projection method where data with m-columns (features) is projected into a subspace with m or fewer columns, whilst retaining the essence of the original data.\n",
    "\n",
    "Steps: \n",
    "\n",
    "    1) A (i/p), B=PCA(A) (o/p)\n",
    "    2) M = mean(A)\n",
    "    3) C = A-M                               # To center data at origin \n",
    "    4) V= cov(C.T)                           # V = CT @ C\n",
    "    5) values, vectors = eig(V)\n",
    "    6) B = C @ vectors"
   ]
  },
  {
   "cell_type": "code",
   "execution_count": 25,
   "id": "ad7541f5",
   "metadata": {},
   "outputs": [
    {
     "name": "stdout",
     "output_type": "stream",
     "text": [
      "A = \n",
      " [[1 2]\n",
      " [3 4]\n",
      " [5 6]]\n",
      "M = \n",
      " [3. 4.]\n",
      "C = \n",
      " [[-2. -2.]\n",
      " [ 0.  0.]\n",
      " [ 2.  2.]]\n",
      "V = \n",
      " [[4. 4.]\n",
      " [4. 4.]]\n",
      "values = \n",
      " [8. 0.]\n",
      "vectors = \n",
      " [[ 0.70710678 -0.70710678]\n",
      " [ 0.70710678  0.70710678]]\n",
      "B = PCA (A) = \n",
      " [[-2.82842712  0.        ]\n",
      " [ 0.          0.        ]\n",
      " [ 2.82842712  0.        ]]\n"
     ]
    }
   ],
   "source": [
    "#1\n",
    "A = np.array([\n",
    "[1, 2],\n",
    "[3, 4],\n",
    "[5, 6]])\n",
    "print('A = \\n',A)\n",
    "\n",
    "#2 - M = mean(A)\n",
    "M=np.mean(A, axis=0)\n",
    "print('M = \\n',M)\n",
    "\n",
    "#3 - C = A-M\n",
    "C = A-M\n",
    "print('C = \\n',C)\n",
    "\n",
    "# V= cov(C)\n",
    "V = np.cov(C.T)\n",
    "print('V = \\n',V)\n",
    "\n",
    "#values, vectors = eig(V)\n",
    "values, vectors = np.linalg.eig(V)\n",
    "print('values = \\n',values)\n",
    "print('vectors = \\n',vectors)\n",
    "\n",
    "# B=CV\n",
    "B=C@vectors\n",
    "print('B = PCA (A) = \\n',B)"
   ]
  },
  {
   "cell_type": "code",
   "execution_count": 26,
   "id": "e9c29097",
   "metadata": {},
   "outputs": [
    {
     "name": "stdout",
     "output_type": "stream",
     "text": [
      "B = PCA (A) = \n",
      " [[-2.82842712e+00  2.22044605e-16]\n",
      " [ 0.00000000e+00  0.00000000e+00]\n",
      " [ 2.82842712e+00 -2.22044605e-16]]\n"
     ]
    }
   ],
   "source": [
    "#principal component analysis with scikit-learn\n",
    "\n",
    "from sklearn.decomposition import PCA\n",
    "A = np.array([\n",
    "[1, 2],\n",
    "[3, 4],\n",
    "[5, 6]])\n",
    "\n",
    "pca = PCA(2)\n",
    "pca.fit(A)\n",
    "B=pca.transform(A)\n",
    "print('B = PCA (A) = \\n',B)"
   ]
  },
  {
   "attachments": {
    "image.png": {
     "image/png": "[encoded data removed]"
    }
   },
   "cell_type": "markdown",
   "id": "a5d2b3d5",
   "metadata": {},
   "source": [
    "## Linear Regression\n",
    "y is a linear function or a weighted sum of the input variable.        \n",
    "\n",
    "    y = b0 + (b1 × x1) + (b2 × x2) + · · · \n",
    "    y = X · b\n",
    "The way this is typically achieved is by finding a solution where the values for b in the model minimize the squared error. This is called linear least squares.\n",
    "\n",
    "    XT· X · b = XT· y\n",
    "    b = (XT· X)−1· XT· y\n",
    "![image.png](attachment:image.png)"
   ]
  },
  {
   "cell_type": "code",
   "execution_count": 27,
   "id": "b7c4438d",
   "metadata": {},
   "outputs": [
    {
     "data": {
      "image/png": "[encoded data removed]",
      "text/plain": [
       "<Figure size 640x480 with 1 Axes>"
      ]
     },
     "metadata": {},
     "output_type": "display_data"
    }
   ],
   "source": [
    "import matplotlib.pyplot as plt \n",
    "\n",
    "data = np.array([\n",
    "[0.05, 0.12],\n",
    "[0.18, 0.22],\n",
    "[0.31, 0.35],\n",
    "[0.42, 0.38],\n",
    "[0.5, 0.49]])\n",
    "\n",
    "X,y = data[:,0].reshape(data.shape[0],1), data[:,1].reshape(data.shape[0],1)\n",
    "plt.scatter(X,y)\n",
    "plt.show()"
   ]
  },
  {
   "cell_type": "code",
   "execution_count": 28,
   "id": "0f9ccb61",
   "metadata": {},
   "outputs": [
    {
     "name": "stdout",
     "output_type": "stream",
     "text": [
      "[[1.00233226]]\n"
     ]
    },
    {
     "data": {
      "image/png": "[encoded data removed]",
      "text/plain": [
       "<Figure size 640x480 with 1 Axes>"
      ]
     },
     "metadata": {},
     "output_type": "display_data"
    }
   ],
   "source": [
    "b=np.linalg.inv(X.T@X) @ X.T @ y\n",
    "print(b)\n",
    "yhat=X@b\n",
    "\n",
    "plt.scatter(X,y)\n",
    "plt.plot(X,yhat, color='red')\n",
    "plt.show()"
   ]
  },
  {
   "attachments": {
    "image.png": {
     "image/png": "[encoded data removed]"
    }
   },
   "cell_type": "markdown",
   "id": "4a8089ed",
   "metadata": {},
   "source": [
    "## Linear Regression via QR Decomposition\n",
    "\n",
    "    X = Q · R\n",
    "![image.png](attachment:image.png)"
   ]
  },
  {
   "cell_type": "code",
   "execution_count": 29,
   "id": "8c7c644d",
   "metadata": {},
   "outputs": [
    {
     "name": "stdout",
     "output_type": "stream",
     "text": [
      "[[1.00233226]]\n"
     ]
    },
    {
     "data": {
      "image/png": "[encoded data removed]",
      "text/plain": [
       "<Figure size 640x480 with 1 Axes>"
      ]
     },
     "metadata": {},
     "output_type": "display_data"
    }
   ],
   "source": [
    "data = np.array([\n",
    "[0.05, 0.12],\n",
    "[0.18, 0.22],\n",
    "[0.31, 0.35],\n",
    "[0.42, 0.38],\n",
    "[0.5, 0.49]])\n",
    "\n",
    "X,y1 = data[:,0].reshape(data.shape[0],1), data[:,1].reshape(data.shape[0],1)\n",
    "\n",
    "Q,R=np.linalg.qr(X)\n",
    "b=np.linalg.inv(R) @ Q.T @ y1\n",
    "print(b)\n",
    "\n",
    "yhat2=X@b\n",
    "\n",
    "plt.scatter(X,y)\n",
    "plt.plot(X,yhat2, color='red')\n",
    "plt.show()"
   ]
  },
  {
   "cell_type": "markdown",
   "id": "e59f1f53",
   "metadata": {},
   "source": [
    "## Linear Regression via Convenience Function\n",
    "NumPy provides a convenience function named lstsq() that solves the **linear least squares function** using the SVD approach. The function takes as input the X matrix and y vector and returns the b coefficients as well as residual errors, the rank of the  rovided X matrix and the singular values. The example below demonstrate the lstsq() function on the test dataset."
   ]
  },
  {
   "cell_type": "code",
   "execution_count": 30,
   "id": "8110902b",
   "metadata": {},
   "outputs": [
    {
     "name": "stdout",
     "output_type": "stream",
     "text": [
      "[[1.00233226]]\n"
     ]
    },
    {
     "name": "stderr",
     "output_type": "stream",
     "text": [
      "C:\\Users\\SUDHANSHU\\AppData\\Local\\Temp\\ipykernel_14444\\2943620982.py:10: FutureWarning: `rcond` parameter will change to the default of machine precision times ``max(M, N)`` where M and N are the input matrix dimensions.\n",
      "To use the future default and silence this warning we advise to pass `rcond=None`, to keep using the old, explicitly pass `rcond=-1`.\n",
      "  b, residuals, rank, s = np.linalg.lstsq(X, y)\n"
     ]
    },
    {
     "data": {
      "image/png": "[encoded data removed]",
      "text/plain": [
       "<Figure size 640x480 with 1 Axes>"
      ]
     },
     "metadata": {},
     "output_type": "display_data"
    }
   ],
   "source": [
    "data = np.array([\n",
    "[0.05, 0.12],\n",
    "[0.18, 0.22],\n",
    "[0.31, 0.35],\n",
    "[0.42, 0.38],\n",
    "[0.5, 0.49]])\n",
    "\n",
    "X,y = data[:,0].reshape(data.shape[0],1), data[:,1].reshape(data.shape[0],1)\n",
    "\n",
    "b, residuals, rank, s = np.linalg.lstsq(X, y)\n",
    "print(b)\n",
    "\n",
    "yhat=X@b\n",
    "\n",
    "plt.scatter(X,y)\n",
    "plt.plot(X,yhat, color='red')\n",
    "plt.show()"
   ]
  },
  {
   "cell_type": "code",
   "execution_count": null,
   "id": "2396592f",
   "metadata": {},
   "outputs": [],
   "source": []
  }
 ],
 "metadata": {
  "kernelspec": {
   "display_name": "Python 3 (ipykernel)",
   "language": "python",
   "name": "python3"
  },
  "language_info": {
   "codemirror_mode": {
    "name": "ipython",
    "version": 3
   },
   "file_extension": ".py",
   "mimetype": "text/x-python",
   "name": "python",
   "nbconvert_exporter": "python",
   "pygments_lexer": "ipython3",
   "version": "3.9.13"
  }
 },
 "nbformat": 4,
 "nbformat_minor": 5
}
